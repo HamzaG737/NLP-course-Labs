{
  "nbformat": 4,
  "nbformat_minor": 0,
  "metadata": {
    "colab": {
      "name": "NLP1.ipynb",
      "provenance": [],
      "collapsed_sections": [],
      "toc_visible": true
    },
    "kernelspec": {
      "display_name": "Python 3",
      "name": "python3"
    },
    "widgets": {
      "application/vnd.jupyter.widget-state+json": {
        "5dfe721b835f4973b37e5a08fea6d004": {
          "model_module": "@jupyter-widgets/controls",
          "model_name": "HBoxModel",
          "state": {
            "_view_name": "HBoxView",
            "_dom_classes": [],
            "_model_name": "HBoxModel",
            "_view_module": "@jupyter-widgets/controls",
            "_model_module_version": "1.5.0",
            "_view_count": null,
            "_view_module_version": "1.5.0",
            "box_style": "",
            "layout": "IPY_MODEL_d7bb82ebbe4645fa95682fc4037d81ee",
            "_model_module": "@jupyter-widgets/controls",
            "children": [
              "IPY_MODEL_65896dcf8b9a4dd29e931239d1d6ce48",
              "IPY_MODEL_0aeb808ce51d49d1a200f06c42f58da1"
            ]
          }
        },
        "d7bb82ebbe4645fa95682fc4037d81ee": {
          "model_module": "@jupyter-widgets/base",
          "model_name": "LayoutModel",
          "state": {
            "_view_name": "LayoutView",
            "grid_template_rows": null,
            "right": null,
            "justify_content": null,
            "_view_module": "@jupyter-widgets/base",
            "overflow": null,
            "_model_module_version": "1.2.0",
            "_view_count": null,
            "flex_flow": null,
            "width": null,
            "min_width": null,
            "border": null,
            "align_items": null,
            "bottom": null,
            "_model_module": "@jupyter-widgets/base",
            "top": null,
            "grid_column": null,
            "overflow_y": null,
            "overflow_x": null,
            "grid_auto_flow": null,
            "grid_area": null,
            "grid_template_columns": null,
            "flex": null,
            "_model_name": "LayoutModel",
            "justify_items": null,
            "grid_row": null,
            "max_height": null,
            "align_content": null,
            "visibility": null,
            "align_self": null,
            "height": null,
            "min_height": null,
            "padding": null,
            "grid_auto_rows": null,
            "grid_gap": null,
            "max_width": null,
            "order": null,
            "_view_module_version": "1.2.0",
            "grid_template_areas": null,
            "object_position": null,
            "object_fit": null,
            "grid_auto_columns": null,
            "margin": null,
            "display": null,
            "left": null
          }
        },
        "65896dcf8b9a4dd29e931239d1d6ce48": {
          "model_module": "@jupyter-widgets/controls",
          "model_name": "FloatProgressModel",
          "state": {
            "_view_name": "ProgressView",
            "style": "IPY_MODEL_011036cbb65f4fcc805b709fcf95bab6",
            "_dom_classes": [],
            "description": "",
            "_model_name": "FloatProgressModel",
            "bar_style": "success",
            "max": 1,
            "_view_module": "@jupyter-widgets/controls",
            "_model_module_version": "1.5.0",
            "value": 1,
            "_view_count": null,
            "_view_module_version": "1.5.0",
            "orientation": "horizontal",
            "min": 0,
            "description_tooltip": null,
            "_model_module": "@jupyter-widgets/controls",
            "layout": "IPY_MODEL_176c12507ff046378e035db63aeb456e"
          }
        },
        "0aeb808ce51d49d1a200f06c42f58da1": {
          "model_module": "@jupyter-widgets/controls",
          "model_name": "HTMLModel",
          "state": {
            "_view_name": "HTMLView",
            "style": "IPY_MODEL_085c01aace2643bc86d52f1d845c2cf7",
            "_dom_classes": [],
            "description": "",
            "_model_name": "HTMLModel",
            "placeholder": "​",
            "_view_module": "@jupyter-widgets/controls",
            "_model_module_version": "1.5.0",
            "value": " 20000/? [08:41&lt;00:00, 38.39it/s]",
            "_view_count": null,
            "_view_module_version": "1.5.0",
            "description_tooltip": null,
            "_model_module": "@jupyter-widgets/controls",
            "layout": "IPY_MODEL_495ac504378e4b54b3391dab768ef81c"
          }
        },
        "011036cbb65f4fcc805b709fcf95bab6": {
          "model_module": "@jupyter-widgets/controls",
          "model_name": "ProgressStyleModel",
          "state": {
            "_view_name": "StyleView",
            "_model_name": "ProgressStyleModel",
            "description_width": "initial",
            "_view_module": "@jupyter-widgets/base",
            "_model_module_version": "1.5.0",
            "_view_count": null,
            "_view_module_version": "1.2.0",
            "bar_color": null,
            "_model_module": "@jupyter-widgets/controls"
          }
        },
        "176c12507ff046378e035db63aeb456e": {
          "model_module": "@jupyter-widgets/base",
          "model_name": "LayoutModel",
          "state": {
            "_view_name": "LayoutView",
            "grid_template_rows": null,
            "right": null,
            "justify_content": null,
            "_view_module": "@jupyter-widgets/base",
            "overflow": null,
            "_model_module_version": "1.2.0",
            "_view_count": null,
            "flex_flow": null,
            "width": null,
            "min_width": null,
            "border": null,
            "align_items": null,
            "bottom": null,
            "_model_module": "@jupyter-widgets/base",
            "top": null,
            "grid_column": null,
            "overflow_y": null,
            "overflow_x": null,
            "grid_auto_flow": null,
            "grid_area": null,
            "grid_template_columns": null,
            "flex": null,
            "_model_name": "LayoutModel",
            "justify_items": null,
            "grid_row": null,
            "max_height": null,
            "align_content": null,
            "visibility": null,
            "align_self": null,
            "height": null,
            "min_height": null,
            "padding": null,
            "grid_auto_rows": null,
            "grid_gap": null,
            "max_width": null,
            "order": null,
            "_view_module_version": "1.2.0",
            "grid_template_areas": null,
            "object_position": null,
            "object_fit": null,
            "grid_auto_columns": null,
            "margin": null,
            "display": null,
            "left": null
          }
        },
        "085c01aace2643bc86d52f1d845c2cf7": {
          "model_module": "@jupyter-widgets/controls",
          "model_name": "DescriptionStyleModel",
          "state": {
            "_view_name": "StyleView",
            "_model_name": "DescriptionStyleModel",
            "description_width": "",
            "_view_module": "@jupyter-widgets/base",
            "_model_module_version": "1.5.0",
            "_view_count": null,
            "_view_module_version": "1.2.0",
            "_model_module": "@jupyter-widgets/controls"
          }
        },
        "495ac504378e4b54b3391dab768ef81c": {
          "model_module": "@jupyter-widgets/base",
          "model_name": "LayoutModel",
          "state": {
            "_view_name": "LayoutView",
            "grid_template_rows": null,
            "right": null,
            "justify_content": null,
            "_view_module": "@jupyter-widgets/base",
            "overflow": null,
            "_model_module_version": "1.2.0",
            "_view_count": null,
            "flex_flow": null,
            "width": null,
            "min_width": null,
            "border": null,
            "align_items": null,
            "bottom": null,
            "_model_module": "@jupyter-widgets/base",
            "top": null,
            "grid_column": null,
            "overflow_y": null,
            "overflow_x": null,
            "grid_auto_flow": null,
            "grid_area": null,
            "grid_template_columns": null,
            "flex": null,
            "_model_name": "LayoutModel",
            "justify_items": null,
            "grid_row": null,
            "max_height": null,
            "align_content": null,
            "visibility": null,
            "align_self": null,
            "height": null,
            "min_height": null,
            "padding": null,
            "grid_auto_rows": null,
            "grid_gap": null,
            "max_width": null,
            "order": null,
            "_view_module_version": "1.2.0",
            "grid_template_areas": null,
            "object_position": null,
            "object_fit": null,
            "grid_auto_columns": null,
            "margin": null,
            "display": null,
            "left": null
          }
        },
        "39b1f9b833484bb39123fb1c787ed792": {
          "model_module": "@jupyter-widgets/controls",
          "model_name": "HBoxModel",
          "state": {
            "_view_name": "HBoxView",
            "_dom_classes": [],
            "_model_name": "HBoxModel",
            "_view_module": "@jupyter-widgets/controls",
            "_model_module_version": "1.5.0",
            "_view_count": null,
            "_view_module_version": "1.5.0",
            "box_style": "",
            "layout": "IPY_MODEL_062992844d9d474e9912ed5b9426b6ec",
            "_model_module": "@jupyter-widgets/controls",
            "children": [
              "IPY_MODEL_b94e4cf56c8646ef918c3cd7b401a6a0",
              "IPY_MODEL_38dfcd7b435f48139819069a9d731c1b"
            ]
          }
        },
        "062992844d9d474e9912ed5b9426b6ec": {
          "model_module": "@jupyter-widgets/base",
          "model_name": "LayoutModel",
          "state": {
            "_view_name": "LayoutView",
            "grid_template_rows": null,
            "right": null,
            "justify_content": null,
            "_view_module": "@jupyter-widgets/base",
            "overflow": null,
            "_model_module_version": "1.2.0",
            "_view_count": null,
            "flex_flow": null,
            "width": null,
            "min_width": null,
            "border": null,
            "align_items": null,
            "bottom": null,
            "_model_module": "@jupyter-widgets/base",
            "top": null,
            "grid_column": null,
            "overflow_y": null,
            "overflow_x": null,
            "grid_auto_flow": null,
            "grid_area": null,
            "grid_template_columns": null,
            "flex": null,
            "_model_name": "LayoutModel",
            "justify_items": null,
            "grid_row": null,
            "max_height": null,
            "align_content": null,
            "visibility": null,
            "align_self": null,
            "height": null,
            "min_height": null,
            "padding": null,
            "grid_auto_rows": null,
            "grid_gap": null,
            "max_width": null,
            "order": null,
            "_view_module_version": "1.2.0",
            "grid_template_areas": null,
            "object_position": null,
            "object_fit": null,
            "grid_auto_columns": null,
            "margin": null,
            "display": null,
            "left": null
          }
        },
        "b94e4cf56c8646ef918c3cd7b401a6a0": {
          "model_module": "@jupyter-widgets/controls",
          "model_name": "FloatProgressModel",
          "state": {
            "_view_name": "ProgressView",
            "style": "IPY_MODEL_cab81b6e5a004021a92c67c4c85d4e1f",
            "_dom_classes": [],
            "description": "  4%",
            "_model_name": "FloatProgressModel",
            "bar_style": "",
            "max": 20000,
            "_view_module": "@jupyter-widgets/controls",
            "_model_module_version": "1.5.0",
            "value": 798,
            "_view_count": null,
            "_view_module_version": "1.5.0",
            "orientation": "horizontal",
            "min": 0,
            "description_tooltip": null,
            "_model_module": "@jupyter-widgets/controls",
            "layout": "IPY_MODEL_c42bafa5ac984eb1bd843c3670ef6bc7"
          }
        },
        "38dfcd7b435f48139819069a9d731c1b": {
          "model_module": "@jupyter-widgets/controls",
          "model_name": "HTMLModel",
          "state": {
            "_view_name": "HTMLView",
            "style": "IPY_MODEL_81a699a671114224922d7dd7a4f4ae51",
            "_dom_classes": [],
            "description": "",
            "_model_name": "HTMLModel",
            "placeholder": "​",
            "_view_module": "@jupyter-widgets/controls",
            "_model_module_version": "1.5.0",
            "value": " 798/20000 [03:04&lt;1:08:31,  4.67it/s]",
            "_view_count": null,
            "_view_module_version": "1.5.0",
            "description_tooltip": null,
            "_model_module": "@jupyter-widgets/controls",
            "layout": "IPY_MODEL_6c0be9bed6cc4cb3a3dd113e8fe937c6"
          }
        },
        "cab81b6e5a004021a92c67c4c85d4e1f": {
          "model_module": "@jupyter-widgets/controls",
          "model_name": "ProgressStyleModel",
          "state": {
            "_view_name": "StyleView",
            "_model_name": "ProgressStyleModel",
            "description_width": "initial",
            "_view_module": "@jupyter-widgets/base",
            "_model_module_version": "1.5.0",
            "_view_count": null,
            "_view_module_version": "1.2.0",
            "bar_color": null,
            "_model_module": "@jupyter-widgets/controls"
          }
        },
        "c42bafa5ac984eb1bd843c3670ef6bc7": {
          "model_module": "@jupyter-widgets/base",
          "model_name": "LayoutModel",
          "state": {
            "_view_name": "LayoutView",
            "grid_template_rows": null,
            "right": null,
            "justify_content": null,
            "_view_module": "@jupyter-widgets/base",
            "overflow": null,
            "_model_module_version": "1.2.0",
            "_view_count": null,
            "flex_flow": null,
            "width": null,
            "min_width": null,
            "border": null,
            "align_items": null,
            "bottom": null,
            "_model_module": "@jupyter-widgets/base",
            "top": null,
            "grid_column": null,
            "overflow_y": null,
            "overflow_x": null,
            "grid_auto_flow": null,
            "grid_area": null,
            "grid_template_columns": null,
            "flex": null,
            "_model_name": "LayoutModel",
            "justify_items": null,
            "grid_row": null,
            "max_height": null,
            "align_content": null,
            "visibility": null,
            "align_self": null,
            "height": null,
            "min_height": null,
            "padding": null,
            "grid_auto_rows": null,
            "grid_gap": null,
            "max_width": null,
            "order": null,
            "_view_module_version": "1.2.0",
            "grid_template_areas": null,
            "object_position": null,
            "object_fit": null,
            "grid_auto_columns": null,
            "margin": null,
            "display": null,
            "left": null
          }
        },
        "81a699a671114224922d7dd7a4f4ae51": {
          "model_module": "@jupyter-widgets/controls",
          "model_name": "DescriptionStyleModel",
          "state": {
            "_view_name": "StyleView",
            "_model_name": "DescriptionStyleModel",
            "description_width": "",
            "_view_module": "@jupyter-widgets/base",
            "_model_module_version": "1.5.0",
            "_view_count": null,
            "_view_module_version": "1.2.0",
            "_model_module": "@jupyter-widgets/controls"
          }
        },
        "6c0be9bed6cc4cb3a3dd113e8fe937c6": {
          "model_module": "@jupyter-widgets/base",
          "model_name": "LayoutModel",
          "state": {
            "_view_name": "LayoutView",
            "grid_template_rows": null,
            "right": null,
            "justify_content": null,
            "_view_module": "@jupyter-widgets/base",
            "overflow": null,
            "_model_module_version": "1.2.0",
            "_view_count": null,
            "flex_flow": null,
            "width": null,
            "min_width": null,
            "border": null,
            "align_items": null,
            "bottom": null,
            "_model_module": "@jupyter-widgets/base",
            "top": null,
            "grid_column": null,
            "overflow_y": null,
            "overflow_x": null,
            "grid_auto_flow": null,
            "grid_area": null,
            "grid_template_columns": null,
            "flex": null,
            "_model_name": "LayoutModel",
            "justify_items": null,
            "grid_row": null,
            "max_height": null,
            "align_content": null,
            "visibility": null,
            "align_self": null,
            "height": null,
            "min_height": null,
            "padding": null,
            "grid_auto_rows": null,
            "grid_gap": null,
            "max_width": null,
            "order": null,
            "_view_module_version": "1.2.0",
            "grid_template_areas": null,
            "object_position": null,
            "object_fit": null,
            "grid_auto_columns": null,
            "margin": null,
            "display": null,
            "left": null
          }
        }
      }
    }
  },
  "cells": [
    {
      "cell_type": "code",
      "metadata": {
        "colab": {
          "base_uri": "https://localhost:8080/"
        },
        "id": "ZhpU_1d7E9KZ",
        "outputId": "864f8e8a-9a16-49ec-8b16-4a3e4b2a9b09"
      },
      "source": [
        "from __future__ import division\n",
        "import argparse\n",
        "import pandas as pd\n",
        "\n",
        "# useful stuff\n",
        "import numpy as np\n",
        "from scipy.special import expit\n",
        "from sklearn.preprocessing import normalize\n",
        "from random import choices\n",
        "from tqdm.notebook import tqdm\n",
        "import nltk \n",
        "nltk.download('punkt')\n",
        "from nltk.tokenize import word_tokenize\n",
        "from collections import defaultdict\n",
        "import random\n",
        "import re\n",
        "import pickle\n",
        "import time\n"
      ],
      "execution_count": 1,
      "outputs": [
        {
          "output_type": "stream",
          "text": [
            "[nltk_data] Downloading package punkt to /root/nltk_data...\n",
            "[nltk_data]   Unzipping tokenizers/punkt.zip.\n"
          ],
          "name": "stdout"
        }
      ]
    },
    {
      "cell_type": "code",
      "metadata": {
        "colab": {
          "base_uri": "https://localhost:8080/"
        },
        "id": "S7qvo5FZE_uy",
        "outputId": "ac2907af-2b50-4067-9644-246b6c71dc74"
      },
      "source": [
        "## MOUNT DRIVE \n",
        "from google.colab import drive\n",
        "drive.mount('/content/drive')"
      ],
      "execution_count": 2,
      "outputs": [
        {
          "output_type": "stream",
          "text": [
            "Mounted at /content/drive\n"
          ],
          "name": "stdout"
        }
      ]
    },
    {
      "cell_type": "code",
      "metadata": {
        "id": "CqA7t9NCEWIb"
      },
      "source": [
        "import spacy\n",
        "nlp = spacy.load('en')"
      ],
      "execution_count": 3,
      "outputs": []
    },
    {
      "cell_type": "code",
      "metadata": {
        "id": "sKucJqy1Gt9i"
      },
      "source": [
        "def preprocess(sentence) :\n",
        "  sentence = re.sub(\"[^a-zA-Z0-9]\",\" \", sentence) ## remove non alpha numerical  caracters\n",
        "  sentence = re.sub(' +', ' ', sentence ) ## remove unnecessary spaces\n",
        "  sentence = re.sub(\"[0-9]+\",\"NUMTOKEN\", sentence) ## create NUMTOKEN word for numbers\n",
        "  return sentence\n",
        "\n",
        "def text2sentences(path) :\n",
        "    sentences = []\n",
        "    with open(path) as f :\n",
        "      for l in tqdm(f) :\n",
        "        sentence = []\n",
        "        doc = nlp(preprocess(l.lower()))\n",
        "        for token in doc:\n",
        "          sentence.append(token.lemma_)\n",
        "        sentences.append(sentence)\n",
        "    return sentences\n",
        "\n",
        "def loadPairs(path):\n",
        "\tdata = pd.read_csv(path, delimiter='\\t')\n",
        "\tpairs = zip(data['word1'],data['word2'],data['similarity'])\n",
        "\treturn pairs"
      ],
      "execution_count": 4,
      "outputs": []
    },
    {
      "cell_type": "code",
      "metadata": {
        "id": "sLssLDyQDxE3"
      },
      "source": [
        "class SkipGram():\n",
        "    def __init__(self, sentences, path_save  , lr = 1e-2 , nEmbed=100, \n",
        "                 negativeRate=5, winSize = 5, minCount = 2):\n",
        "      self.w2id = {} # word to ID mapping\n",
        "      \n",
        "      self.vocab = [] # list of valid words\n",
        "      self.occurences = defaultdict(int)\n",
        "      self.minCount = minCount\n",
        "      self.get_vocab(sentences)\n",
        "      self.trainset = self.subsample(sentences)\n",
        "      ## Initialize weights \n",
        "      self.W_  = np.random.normal(0, 0.1, (nEmbed,len(self.vocab)))\n",
        "      self.C_ = np.random.normal(0, 0.1, (nEmbed,len(self.vocab)))\n",
        "      ## learning rate\n",
        "      self.lr_ = lr\n",
        "      self.neg_ = negativeRate\n",
        "      self.winSize = winSize\n",
        "      self.loss= []\n",
        "      self.path_save = path_save\n",
        "      ## random vector for unknown words in test time.\n",
        "      self.random_vector = np.random.normal(0,1,(nEmbed,1))\n",
        "    def get_vocab(self,sentences) :\n",
        "        \"\"\"\n",
        "        Create vocab , word to id dict and a dict of occurences\n",
        "        \"\"\" \n",
        "        for sentence in sentences : \n",
        "          for word in sentence :\n",
        "            self.occurences[word]+=1\n",
        "\n",
        "        self.occurences  = dict(self.occurences)\n",
        "        ## filter by mincount\n",
        "        self.occurences  = {k: v for k, v in self.occurences.items() if v>= self.minCount}\n",
        "        self.vocab = list(self.occurences.keys())\n",
        "        self.w2id = dict(zip(self.vocab,range(len(self.vocab))))\n",
        "\n",
        "        ## occurences for negative sampling\n",
        "        sum_neg = np.sum(np.array(list(self.occurences.values())) **(3/4))\n",
        "        self.occurences_neg = {k:(v**(3/4))/sum_neg for k,v in self.occurences.items()}\n",
        "    def subsample(self,sentences) :\n",
        "      \"\"\"\n",
        "      This function subsamples words that are frequent in the dataset.\n",
        "      \"\"\"\n",
        "      trainset_ = []\n",
        "      total_occurences = sum(list(self.occurences.values())) ## normalize\n",
        "      occurences_ratio = {k:v/total_occurences for k,v in self.occurences.items()} ## normalize \n",
        "      for sentence in sentences :\n",
        "        current = []\n",
        "        for word in sentence :\n",
        "          ## if not in vocab (filtered by min count)\n",
        "          if word not in self.vocab : \n",
        "            continue\n",
        "          ## This is the probability to keep the word. The formulation is taken from word2vec paper. \n",
        "          prob = (np.sqrt(occurences_ratio[word]/1e-3)+1) * (1e-3/occurences_ratio[word])\n",
        "          k = random.random()\n",
        "          if k<prob :\n",
        "            current.append(word) \n",
        "        trainset_.append(current)\n",
        "      return trainset_\n",
        "\n",
        "\n",
        "    def sample(self, omit):\n",
        "    \n",
        "        ## we extract self.neg_ + 2 samples because in the worst case, two samples correspond to omit set.\n",
        "        rand_ = np.random.multinomial(n=self.neg_+2, pvals = list(self.occurences_neg.values()))\n",
        "        rand_ = list(np.where(rand_>=1)[0])\n",
        "        rand_ = [id_ for id_ in rand_ if id_ not in omit]\n",
        "        return rand_[:self.neg_]\n",
        "\n",
        "    def sigmoid(self,x) :\n",
        "        return (1/(1+np.exp(-x)))\n",
        "    def train(self):\n",
        "        self.trainWords , self.acc = 0 , 0 \n",
        "        for counter, sentence in tqdm(enumerate(self.trainset) , total = len(self.trainset)):\n",
        "            sentence = list(filter(lambda word: word in self.vocab, sentence))\n",
        "\n",
        "            for wpos, word in enumerate(sentence):\n",
        "                wIdx = self.w2id[word]\n",
        "                winsize = np.random.randint(self.winSize) + 1\n",
        "                start = max(0, wpos - winsize)\n",
        "                end = min(wpos + winsize + 1, len(sentence))\n",
        "\n",
        "                for context_word in sentence[start:end]:\n",
        "                    ctxtId = self.w2id[context_word]\n",
        "                    if ctxtId == wIdx: continue\n",
        "                    negativeIds = self.sample({wIdx, ctxtId})\n",
        "                    self.trainWord(wIdx, ctxtId, negativeIds)\n",
        "                    self.trainWords += 1\n",
        "                  \n",
        "            if counter % 1000 == 0:\n",
        "                print (' > training %d of %d' % (counter, len(self.trainset)))\n",
        "                acc_norm = self.acc/((1+self.neg_) * self.trainWords)\n",
        "                print('loss : ',acc_norm)\n",
        "                self.loss.append(acc_norm)\n",
        "                self.trainWords = 0\n",
        "                self.acc = 0.\n",
        "                self.save(self.path_save)\n",
        "\n",
        "    def trainWord(self, wordId, contextId, negativeIds):\n",
        "        t1 = time.time()\n",
        "\n",
        "        z_negatives = np.zeros((len(self.vocab),len(negativeIds)))\n",
        "        for k,index in enumerate(negativeIds) :\n",
        "            z_negatives[index,k] = 1\n",
        "        x_w = self.W_[:,wordId].reshape(-1,1)\n",
        "        y_c = self.C_[:,contextId].reshape(-1,1)\n",
        "        Z_c = self.C_[:,[neg_id for neg_id in negativeIds]]\n",
        "        t2 = time.time()\n",
        "        ## compute gradients \n",
        "        negative_grad_W = np.zeros((self.W_.shape[0],1))\n",
        "        \n",
        "        \n",
        "        sig_neg = self.sigmoid(x_w.T @ Z_c) \n",
        "        negative_grad_W =  - np.sum(sig_neg * Z_c, axis = 1).reshape(-1,1)\n",
        "        negative_grad_C =  - np.sum(sig_neg * z_negatives ,axis=1).reshape(1,-1)\n",
        "\n",
        "        self.acc -= np.sum(np.log(1-sig_neg + 1e-6),axis=1)[0]\n",
        "        t3 = time.time()\n",
        "        \n",
        "        sig_pos = self.sigmoid( - x_w.T @ y_c)[0][0]\n",
        "        self.acc -= np.log(1-sig_pos + 1e-6) \n",
        "        grad_w = np.zeros_like(self.W_)\n",
        "        grad_w [:,wordId] = (sig_pos * y_c   + negative_grad_W).squeeze()\n",
        "        grad_c = np.zeros_like(self.C_)\n",
        "        \n",
        "        for neg_id in negativeIds:\n",
        "          grad_c[:,neg_id ] = x_w[:,0]*negative_grad_C[:,neg_id]\n",
        "        grad_c[:,contextId]=sig_pos*x_w[:,0]\n",
        "\n",
        "        t4 = time.time()\n",
        "\n",
        "        ## update weights \n",
        "        #only one column in W_ needs update, the rest are zeros\n",
        "        self.W_[:,wordId]+=self.lr_ * grad_w[:,wordId] ## gradient ascent since we want the argmax\n",
        "        #only modified context words will be updated\n",
        "        for c_id in negativeIds+[contextId]:\n",
        "          self.C_[:,c_id]+=self.lr_ * grad_c[:,c_id]\n",
        "        \"\"\"\n",
        "        print('x_w',t2 - t1)\n",
        "        print(\"negative grad\",t3-t2)\n",
        "        print(\"grad\" , t4 - t3)\n",
        "        \"\"\"\n",
        "\n",
        "    def save(self,path):\n",
        "        with open(path, 'wb') as f:\n",
        "            pickle.dump(self, f)\n",
        "\n",
        "    def similarity(self,word1,word2):\n",
        "        \"\"\"\n",
        "        computes similiarity between the two words. unknown words are mapped to one common vector\n",
        "        :param word1:\n",
        "        :param word2:\n",
        "        :return: a float \\in [0,1] indicating the similarity (the higher the more similar)\n",
        "        \"\"\"\n",
        "        if word1 not in self.vocab  : \n",
        "          x_w = self.random_vector\n",
        "        else : \n",
        "          id1 = self.w2id[word1]\n",
        "          x_w = self.W_ [id1]\n",
        "\n",
        "        if word2 not in self.vocab  : \n",
        "          x_c = self.random_vector\n",
        "        else : \n",
        "          id2 = self.w2id[word2]\n",
        "          x_c = self.W_ [id2]\n",
        "\n",
        "        return self.sigmoid(x_w.T @ x_c)[0][0]\n",
        "        \n",
        "\n",
        "    @staticmethod\n",
        "    def load(path):\n",
        "        with open(path, 'rb') as f:\n",
        "            return pickle.load(f)\n",
        "\n",
        "\n"
      ],
      "execution_count": 14,
      "outputs": []
    },
    {
      "cell_type": "markdown",
      "metadata": {
        "id": "WmvVKV1fFxqO"
      },
      "source": [
        "# Main"
      ]
    },
    {
      "cell_type": "code",
      "metadata": {
        "id": "UW93378zFzOn"
      },
      "source": [
        "test = False\n",
        "text_path = '/content/drive/MyDrive/data_CS_MVA/NLP/train_20000.txt'"
      ],
      "execution_count": 6,
      "outputs": []
    },
    {
      "cell_type": "code",
      "metadata": {
        "colab": {
          "base_uri": "https://localhost:8080/",
          "height": 66,
          "referenced_widgets": [
            "5dfe721b835f4973b37e5a08fea6d004",
            "d7bb82ebbe4645fa95682fc4037d81ee",
            "65896dcf8b9a4dd29e931239d1d6ce48",
            "0aeb808ce51d49d1a200f06c42f58da1",
            "011036cbb65f4fcc805b709fcf95bab6",
            "176c12507ff046378e035db63aeb456e",
            "085c01aace2643bc86d52f1d845c2cf7",
            "495ac504378e4b54b3391dab768ef81c"
          ]
        },
        "id": "HteUs8nhFyjk",
        "outputId": "d8a990d2-2e42-479a-f6e2-73a416b57db2"
      },
      "source": [
        "sentences = text2sentences(text_path)\n"
      ],
      "execution_count": 7,
      "outputs": [
        {
          "output_type": "display_data",
          "data": {
            "application/vnd.jupyter.widget-view+json": {
              "model_id": "5dfe721b835f4973b37e5a08fea6d004",
              "version_minor": 0,
              "version_major": 2
            },
            "text/plain": [
              "HBox(children=(FloatProgress(value=1.0, bar_style='info', max=1.0), HTML(value='')))"
            ]
          },
          "metadata": {
            "tags": []
          }
        },
        {
          "output_type": "stream",
          "text": [
            "\n"
          ],
          "name": "stdout"
        }
      ]
    },
    {
      "cell_type": "code",
      "metadata": {
        "colab": {
          "base_uri": "https://localhost:8080/",
          "height": 84,
          "referenced_widgets": [
            "39b1f9b833484bb39123fb1c787ed792",
            "062992844d9d474e9912ed5b9426b6ec",
            "b94e4cf56c8646ef918c3cd7b401a6a0",
            "38dfcd7b435f48139819069a9d731c1b",
            "cab81b6e5a004021a92c67c4c85d4e1f",
            "c42bafa5ac984eb1bd843c3670ef6bc7",
            "81a699a671114224922d7dd7a4f4ae51",
            "6c0be9bed6cc4cb3a3dd113e8fe937c6"
          ]
        },
        "id": "hjxtGz1KTCrK",
        "outputId": "ab4c4332-a5b6-4dfc-de99-68b57ee910fb"
      },
      "source": [
        "#sg = SkipGram.load('/content/drive/MyDrive/model_skip_10000_2epoch.pkl')\n",
        "sg = SkipGram(sentences , lr= 1e-2 , nEmbed = 100, negativeRate= 5 , \n",
        "              minCount= 5 , path_save ='/content/drive/MyDrive/model_skip_20000_1epoch.pkl' )\n",
        "sg.train()"
      ],
      "execution_count": null,
      "outputs": [
        {
          "output_type": "display_data",
          "data": {
            "application/vnd.jupyter.widget-view+json": {
              "model_id": "39b1f9b833484bb39123fb1c787ed792",
              "version_minor": 0,
              "version_major": 2
            },
            "text/plain": [
              "HBox(children=(FloatProgress(value=0.0, max=20000.0), HTML(value='')))"
            ]
          },
          "metadata": {
            "tags": []
          }
        },
        {
          "output_type": "stream",
          "text": [
            " > training 0 of 20000\n",
            "loss :  0.6937914073659904\n"
          ],
          "name": "stdout"
        }
      ]
    },
    {
      "cell_type": "code",
      "metadata": {
        "colab": {
          "base_uri": "https://localhost:8080/",
          "height": 167
        },
        "id": "QKrJZTM8mcie",
        "outputId": "29256741-35b3-4060-c51b-0e61882b8698"
      },
      "source": [
        "sg.save('/content/drive/MyDrive/model_skip_20000_1epoch.pkl')"
      ],
      "execution_count": null,
      "outputs": [
        {
          "output_type": "error",
          "ename": "NameError",
          "evalue": "ignored",
          "traceback": [
            "\u001b[0;31m---------------------------------------------------------------------------\u001b[0m",
            "\u001b[0;31mNameError\u001b[0m                                 Traceback (most recent call last)",
            "\u001b[0;32m<ipython-input-1-d1c2dc863f7f>\u001b[0m in \u001b[0;36m<module>\u001b[0;34m()\u001b[0m\n\u001b[0;32m----> 1\u001b[0;31m \u001b[0msg\u001b[0m\u001b[0;34m.\u001b[0m\u001b[0msave\u001b[0m\u001b[0;34m(\u001b[0m\u001b[0;34m'/content/drive/MyDrive/model_skip_10000_2epoch.pkl'\u001b[0m\u001b[0;34m)\u001b[0m\u001b[0;34m\u001b[0m\u001b[0;34m\u001b[0m\u001b[0m\n\u001b[0m",
            "\u001b[0;31mNameError\u001b[0m: name 'sg' is not defined"
          ]
        }
      ]
    },
    {
      "cell_type": "code",
      "metadata": {
        "id": "40ujjbnY3vz0"
      },
      "source": [
        "def similarity_(word1,word2):\n",
        "        \"\"\"\n",
        "        computes similiarity between the two words. unknown words are mapped to one common vector\n",
        "        :param word1:\n",
        "        :param word2:\n",
        "        :return: a float \\in [0,1] indicating the similarity (the higher the more similar)\n",
        "        \"\"\"\n",
        "        if word1 not in sg.vocab  : \n",
        "          x_w = sg.random_vector\n",
        "        else : \n",
        "          id1 = sg.w2id[word1]\n",
        "          x_w = sg.W_[:,id1].reshape(-1,1)\n",
        "\n",
        "        if word2 not in sg.vocab  : \n",
        "          x_c = sg.random_vector\n",
        "        else : \n",
        "          id2 = sg.w2id[word2]\n",
        "          x_c = sg.W_[:,id2].reshape(-1,1)\n",
        "\n",
        "        return sg.sigmoid(x_w.T @ x_c)[0][0]\n"
      ],
      "execution_count": null,
      "outputs": []
    },
    {
      "cell_type": "code",
      "metadata": {
        "id": "5utto7FjbIcW"
      },
      "source": [
        "sg.vocab"
      ],
      "execution_count": null,
      "outputs": []
    },
    {
      "cell_type": "code",
      "metadata": {
        "colab": {
          "base_uri": "https://localhost:8080/"
        },
        "id": "EnqyMRRD2XpA",
        "outputId": "57f589ec-6355-4ea2-e81d-115bb32d32dd"
      },
      "source": [
        "key = \"woman\"\n",
        "n_best = 15\n",
        "all_similarities = np.array([similarity_(key,query) for query in sg.vocab])\n",
        "best_argmaxes = all_similarities.argsort()[-n_best:][::-1]\n",
        "for argmax in best_argmaxes :\n",
        "  print(sg.vocab[argmax],all_similarities[argmax])"
      ],
      "execution_count": null,
      "outputs": [
        {
          "output_type": "stream",
          "text": [
            "-PRON- 0.5292255896784983\n",
            "the 0.5286880197584928\n",
            "of 0.5285503032997688\n",
            "and 0.5277966444149033\n",
            "be 0.5275484744018022\n",
            "s 0.5245874339006774\n",
            "in 0.5245120601573754\n",
            "NUMTOKEN 0.524376608274769\n",
            "to 0.5222469721850704\n",
            "that 0.5214711250668732\n",
            "a 0.5208129189213827\n",
            "from 0.520420156003861\n",
            "have 0.5203921570852976\n",
            "with 0.5191866305574115\n",
            "for 0.5181405734003708\n"
          ],
          "name": "stdout"
        }
      ]
    },
    {
      "cell_type": "code",
      "metadata": {
        "colab": {
          "base_uri": "https://localhost:8080/"
        },
        "id": "S-0O6lr23M0a",
        "outputId": "98dbac5e-aa95-4a00-febc-2bb1f80475c4"
      },
      "source": [
        "sg.similarity('nurse','woman')"
      ],
      "execution_count": null,
      "outputs": [
        {
          "output_type": "execute_result",
          "data": {
            "text/plain": [
              "0.9607249778445325"
            ]
          },
          "metadata": {
            "tags": []
          },
          "execution_count": 17
        }
      ]
    },
    {
      "cell_type": "code",
      "metadata": {
        "colab": {
          "base_uri": "https://localhost:8080/"
        },
        "id": "-yU4MAtHbpLs",
        "outputId": "c0a703dc-2bf6-4c1c-9cf9-592baa212371"
      },
      "source": [
        "sg.w2id['new']"
      ],
      "execution_count": null,
      "outputs": [
        {
          "output_type": "execute_result",
          "data": {
            "text/plain": [
              "68"
            ]
          },
          "metadata": {
            "tags": []
          },
          "execution_count": 225
        }
      ]
    },
    {
      "cell_type": "code",
      "metadata": {
        "id": "EATuhvjfS3O7"
      },
      "source": [
        "sg.save('/content/drive/MyDrive/model_skip_10000.pkl')"
      ],
      "execution_count": null,
      "outputs": []
    }
  ]
}